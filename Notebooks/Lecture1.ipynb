{
 "cells": [
  {
   "cell_type": "markdown",
   "metadata": {},
   "source": [
    "# Lecture one: Introduction to Python programming language"
   ]
  },
  {
   "cell_type": "markdown",
   "metadata": {},
   "source": [
    "## Some useful libraries\n",
    "\n",
    "### Date and Time: `time` and `datetime` \n",
    "\n",
    "The `datetime` module supplies classes for manipulating dates and times in\n",
    "both simple and complex ways.  While date and time arithmetic is supported, the\n",
    "focus of the implementation is on efficient attribute extraction for output\n",
    "formatting and manipulation. For related functionality, see also the `time` and `calendar` modules.\n",
    "\n",
    "* https://docs.python.org/2/library/time.html\n",
    "* https://docs.python.org/2/library/datetime.html"
   ]
  },
  {
   "cell_type": "code",
   "execution_count": 35,
   "metadata": {
    "collapsed": true
   },
   "outputs": [],
   "source": [
    "import time\n",
    "import datetime"
   ]
  },
  {
   "cell_type": "code",
   "execution_count": 36,
   "metadata": {},
   "outputs": [
    {
     "name": "stdout",
     "output_type": "stream",
     "text": [
      "Mon May 07 15:43:27 2018\n"
     ]
    }
   ],
   "source": [
    "print time.ctime() # current time, in a string format"
   ]
  },
  {
   "cell_type": "code",
   "execution_count": 38,
   "metadata": {},
   "outputs": [
    {
     "name": "stdout",
     "output_type": "stream",
     "text": [
      "2018-05-07\n"
     ]
    }
   ],
   "source": [
    "today = datetime.date.today()\n",
    "print today"
   ]
  },
  {
   "cell_type": "markdown",
   "metadata": {},
   "source": [
    "Sometimes you want to iterate over a range of dates from a start date to some end date. You can do it using\n",
    "`datetime` library and `timedelta` object:"
   ]
  },
  {
   "cell_type": "code",
   "execution_count": 51,
   "metadata": {},
   "outputs": [
    {
     "name": "stdout",
     "output_type": "stream",
     "text": [
      "2018-05-07\n",
      "2018-05-08\n",
      "2018-05-09\n",
      "2018-05-10\n",
      "2018-05-11\n",
      "2018-05-12\n",
      "2018-05-13\n"
     ]
    }
   ],
   "source": [
    "import datetime\n",
    "# The size of each step in days\n",
    "day_delta = datetime.timedelta(days=1)\n",
    "start_date = datetime.date.today()\n",
    "end_date = start_date + 7*day_delta\n",
    "for i in range((end_date - start_date).days):\n",
    "    print(start_date + i*day_delta)"
   ]
  },
  {
   "cell_type": "markdown",
   "metadata": {},
   "source": [
    "### Unix style pathname pattern expansion: `glob`\n",
    "No tilde expansion is done, but ``*``, ``?``, and character ranges expressed with ``[]`` will be correctly matched.\n",
    "* https://docs.python.org/2/library/glob.html"
   ]
  },
  {
   "cell_type": "code",
   "execution_count": 56,
   "metadata": {},
   "outputs": [
    {
     "name": "stdout",
     "output_type": "stream",
     "text": [
      "['../Lectures/Lecture_1\\\\dfdt.py', '../Lectures/Lecture_1\\\\Driftrate.eps', '../Lectures/Lecture_1\\\\Driftrate.pdf', '../Lectures/Lecture_1\\\\Driftrate.png', '../Lectures/Lecture_1\\\\Driftrate.tif', '../Lectures/Lecture_1\\\\hello.py', '../Lectures/Lecture_1\\\\plasmafrequency.pdf', '../Lectures/Lecture_1\\\\remarks.txt', '../Lectures/Lecture_1\\\\r_fp.py']\n"
     ]
    }
   ],
   "source": [
    "import glob\n",
    "path_list1= glob.glob('../Lectures/Lecture_1/*.*')\n",
    "print path_list1"
   ]
  },
  {
   "cell_type": "markdown",
   "metadata": {},
   "source": [
    "### Regular expression operations: `re`\n",
    "\n",
    "* https://docs.python.org/2/library/re.html\n"
   ]
  },
  {
   "cell_type": "code",
   "execution_count": 57,
   "metadata": {},
   "outputs": [
    {
     "data": {
      "text/plain": [
       "['foot', 'fell', 'fastest']"
      ]
     },
     "execution_count": 57,
     "metadata": {},
     "output_type": "execute_result"
    }
   ],
   "source": [
    "import re\n",
    "re.findall(r'\\bf[a-z]*', 'whifch foot or hand fell fastest')"
   ]
  },
  {
   "cell_type": "code",
   "execution_count": 58,
   "metadata": {},
   "outputs": [
    {
     "data": {
      "text/plain": [
       "'cat in the hat'"
      ]
     },
     "execution_count": 58,
     "metadata": {},
     "output_type": "execute_result"
    }
   ],
   "source": [
    "re.sub(r'(\\b[a-z]+) \\1', r'\\1', 'cat in the the hat')"
   ]
  },
  {
   "cell_type": "markdown",
   "metadata": {},
   "source": [
    "### extensible library for opening URLs: `urllib2`\n",
    "The `urllib2` module defines functions and classes which help in opening\n",
    "URLs (mostly HTTP) in a complex world --- basic and digest authentication,\n",
    "redirections, cookies and more.\n",
    "* https://docs.python.org/2/library/urllib2.html"
   ]
  },
  {
   "cell_type": "code",
   "execution_count": 61,
   "metadata": {},
   "outputs": [
    {
     "name": "stdout",
     "output_type": "stream",
     "text": [
      "<html>\n",
      "\n",
      "<body>\n",
      "\n",
      "<p>\n",
      "\n",
      "Remote IP Address:193.95.32.201</p>\n",
      "\n",
      "</body>\n",
      "\n",
      "</html>\n",
      "193.95.32.2\n"
     ]
    }
   ],
   "source": [
    "from urllib2 import urlopen\n",
    "for line in urlopen('http://dev.on-rev.com/myip.irev'):\n",
    "    print line\n",
    "    if 'IP' in str(line):\n",
    "        IP = str(line).split(':')[1][:-7]\n",
    "print IP"
   ]
  },
  {
   "cell_type": "markdown",
   "metadata": {},
   "source": [
    "## Check out your installtion\n",
    "\n",
    "In order to check versions of the installed packages in your computer you can use the following code:\n"
   ]
  },
  {
   "cell_type": "code",
   "execution_count": 68,
   "metadata": {},
   "outputs": [
    {
     "name": "stdout",
     "output_type": "stream",
     "text": [
      "\t\tIformation about your Python environnement\n",
      "System :\t  win32\n",
      "platform :\tWindows-10-10.0.16299\n",
      "Computer:\t\tAMD64\n",
      "Python version:\t2.7.13 |Anaconda custom (64-bit)| (default, May 11 2017, 13:17:26) [MSC v.1500 64 bit (AMD64)]\n",
      "spyder version:\t3.1.4\n",
      "IPython version:\t5.3.0\n",
      "numpy version:\t1.12.1\n",
      "scipy version:\t0.19.0\n",
      "matplotlib version:\t2.0.2\n",
      "sunpy version:\t0.9.0\n",
      "astropy version:\t2.0.6\n",
      "--------------------------------------\n",
      "\n",
      "Mon May 07 16:32:33 2018\n"
     ]
    }
   ],
   "source": [
    "print \"\\t\\tIformation about your Python environnement\"\n",
    "\n",
    "import sys\n",
    "print \"System :\\t \", sys.platform\n",
    "import platform\n",
    "print \"platform :\\t\", platform.platform()\n",
    "print \"Computer:\\t\\t\", platform.machine()\n",
    "print \"Python version:\\t\", sys.version\n",
    "import spyder\n",
    "print \"spyder version:\\t\",spyder.__version__ \n",
    "import IPython\n",
    "print \"IPython version:\\t\",IPython.__version__ \n",
    "import numpy\n",
    "print \"numpy version:\\t\", numpy.version.version \n",
    "import scipy\n",
    "print \"scipy version:\\t\", scipy.version.version\n",
    "import matplotlib\n",
    "print \"matplotlib version:\\t\", matplotlib.__version__\n",
    "import sunpy\n",
    "print \"sunpy version:\\t\", sunpy.__version__\n",
    "import astropy\n",
    "print \"astropy version:\\t\", astropy.__version__\n",
    "print \"--------------------------------------\\n\"\n",
    "import time\n",
    "print(time.ctime())"
   ]
  }
 ],
 "metadata": {
  "kernelspec": {
   "display_name": "Python 2",
   "language": "python",
   "name": "python2"
  },
  "language_info": {
   "codemirror_mode": {
    "name": "ipython",
    "version": 2
   },
   "file_extension": ".py",
   "mimetype": "text/x-python",
   "name": "python",
   "nbconvert_exporter": "python",
   "pygments_lexer": "ipython2",
   "version": "2.7.13"
  }
 },
 "nbformat": 4,
 "nbformat_minor": 2
}
